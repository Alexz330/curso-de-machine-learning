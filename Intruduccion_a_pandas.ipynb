{
  "nbformat": 4,
  "nbformat_minor": 0,
  "metadata": {
    "colab": {
      "name": "Intruduccion a pandas.ipynb",
      "provenance": [],
      "authorship_tag": "ABX9TyNs5yMWA7JUXHZlTXEzL9gm",
      "include_colab_link": true
    },
    "kernelspec": {
      "name": "python3",
      "display_name": "Python 3"
    },
    "language_info": {
      "name": "python"
    }
  },
  "cells": [
    {
      "cell_type": "markdown",
      "metadata": {
        "id": "view-in-github",
        "colab_type": "text"
      },
      "source": [
        "<a href=\"https://colab.research.google.com/github/Alexz330/curso-de-machine-learning/blob/main/Intruduccion_a_pandas.ipynb\" target=\"_parent\"><img src=\"https://colab.research.google.com/assets/colab-badge.svg\" alt=\"Open In Colab\"/></a>"
      ]
    },
    {
      "cell_type": "code",
      "metadata": {
        "id": "AssykHmkFJ3I"
      },
      "source": [
        "import pandas as pd"
      ],
      "execution_count": null,
      "outputs": []
    },
    {
      "cell_type": "code",
      "metadata": {
        "colab": {
          "base_uri": "https://localhost:8080/"
        },
        "id": "-ZPpEflEGpVP",
        "outputId": "822db38a-ce39-4be8-8ee5-25921cd48787"
      },
      "source": [
        "series = pd.Series([5,10,15,20,35])\n",
        "series"
      ],
      "execution_count": null,
      "outputs": [
        {
          "output_type": "execute_result",
          "data": {
            "text/plain": [
              "0     5\n",
              "1    10\n",
              "2    15\n",
              "3    20\n",
              "4    35\n",
              "dtype: int64"
            ]
          },
          "metadata": {},
          "execution_count": 3
        }
      ]
    },
    {
      "cell_type": "code",
      "metadata": {
        "colab": {
          "base_uri": "https://localhost:8080/"
        },
        "id": "wmSarJ7AHd6Q",
        "outputId": "be78eab3-dc55-483a-8212-9ffd50413714"
      },
      "source": [
        "type(series)\n"
      ],
      "execution_count": null,
      "outputs": [
        {
          "output_type": "execute_result",
          "data": {
            "text/plain": [
              "pandas.core.series.Series"
            ]
          },
          "metadata": {},
          "execution_count": 4
        }
      ]
    },
    {
      "cell_type": "code",
      "metadata": {
        "colab": {
          "base_uri": "https://localhost:8080/"
        },
        "id": "AN1HVKTcHyd3",
        "outputId": "f190633e-22df-4905-c09d-f298813157c9"
      },
      "source": [
        "series[3]"
      ],
      "execution_count": null,
      "outputs": [
        {
          "output_type": "execute_result",
          "data": {
            "text/plain": [
              "20"
            ]
          },
          "metadata": {},
          "execution_count": 5
        }
      ]
    },
    {
      "cell_type": "code",
      "metadata": {
        "colab": {
          "base_uri": "https://localhost:8080/"
        },
        "id": "Fy1_BnynH257",
        "outputId": "9dd60d0e-9e60-4e86-c5d8-b423bc6a45a4"
      },
      "source": [
        "cad =  pd.Series(['p', '1','a','t','z','i' ])\n",
        "cad"
      ],
      "execution_count": null,
      "outputs": [
        {
          "output_type": "execute_result",
          "data": {
            "text/plain": [
              "0    p\n",
              "1    1\n",
              "2    a\n",
              "3    t\n",
              "4    z\n",
              "5    i\n",
              "dtype: object"
            ]
          },
          "metadata": {},
          "execution_count": 7
        }
      ]
    },
    {
      "cell_type": "code",
      "metadata": {
        "colab": {
          "base_uri": "https://localhost:8080/"
        },
        "id": "mGwn4yoZIkkA",
        "outputId": "413a7537-845e-4d4e-cc66-af00ba2be16b"
      },
      "source": [
        "lst = [\"hola\",\"mundo\",\"Robotico\"]\n",
        "df = pd.DataFrame(lst)\n",
        "print(df)"
      ],
      "execution_count": null,
      "outputs": [
        {
          "output_type": "stream",
          "name": "stdout",
          "text": [
            "          0\n",
            "0      hola\n",
            "1     mundo\n",
            "2  Robotico\n"
          ]
        }
      ]
    },
    {
      "cell_type": "code",
      "metadata": {
        "colab": {
          "base_uri": "https://localhost:8080/",
          "height": 175
        },
        "id": "8F2txTNyI3aw",
        "outputId": "13de3a6a-2e33-473b-dfbb-62b4f40c6ebb"
      },
      "source": [
        "data = {\n",
        "        \"Nombre\":[\"juan\", \"Ana\", \" jose\", \"Arturo\",],\n",
        "        \"Edad\":[25,18,23,27],\n",
        "        \"pais\":[\"MX\", \"CO\", \"BR\",\"MX\" ]\n",
        "        }\n",
        "df =  pd.DataFrame(data)\n",
        "df"
      ],
      "execution_count": null,
      "outputs": [
        {
          "output_type": "execute_result",
          "data": {
            "text/html": [
              "<div>\n",
              "<style scoped>\n",
              "    .dataframe tbody tr th:only-of-type {\n",
              "        vertical-align: middle;\n",
              "    }\n",
              "\n",
              "    .dataframe tbody tr th {\n",
              "        vertical-align: top;\n",
              "    }\n",
              "\n",
              "    .dataframe thead th {\n",
              "        text-align: right;\n",
              "    }\n",
              "</style>\n",
              "<table border=\"1\" class=\"dataframe\">\n",
              "  <thead>\n",
              "    <tr style=\"text-align: right;\">\n",
              "      <th></th>\n",
              "      <th>Nombre</th>\n",
              "      <th>Edad</th>\n",
              "      <th>pais</th>\n",
              "    </tr>\n",
              "  </thead>\n",
              "  <tbody>\n",
              "    <tr>\n",
              "      <th>0</th>\n",
              "      <td>juan</td>\n",
              "      <td>25</td>\n",
              "      <td>MX</td>\n",
              "    </tr>\n",
              "    <tr>\n",
              "      <th>1</th>\n",
              "      <td>Ana</td>\n",
              "      <td>18</td>\n",
              "      <td>CO</td>\n",
              "    </tr>\n",
              "    <tr>\n",
              "      <th>2</th>\n",
              "      <td>jose</td>\n",
              "      <td>23</td>\n",
              "      <td>BR</td>\n",
              "    </tr>\n",
              "    <tr>\n",
              "      <th>3</th>\n",
              "      <td>Arturo</td>\n",
              "      <td>27</td>\n",
              "      <td>MX</td>\n",
              "    </tr>\n",
              "  </tbody>\n",
              "</table>\n",
              "</div>"
            ],
            "text/plain": [
              "   Nombre  Edad pais\n",
              "0    juan    25   MX\n",
              "1     Ana    18   CO\n",
              "2    jose    23   BR\n",
              "3  Arturo    27   MX"
            ]
          },
          "metadata": {},
          "execution_count": 10
        }
      ]
    },
    {
      "cell_type": "code",
      "metadata": {
        "colab": {
          "base_uri": "https://localhost:8080/"
        },
        "id": "PRivyx4XJhKx",
        "outputId": "aa13303e-5dd1-41a1-a403-426d88977b67"
      },
      "source": [
        "print(df[[\"Nombre\", \"pais\"]])"
      ],
      "execution_count": null,
      "outputs": [
        {
          "output_type": "stream",
          "name": "stdout",
          "text": [
            "   Nombre pais\n",
            "0    juan   MX\n",
            "1     Ana   CO\n",
            "2    jose   BR\n",
            "3  Arturo   MX\n"
          ]
        }
      ]
    },
    {
      "cell_type": "markdown",
      "metadata": {
        "id": "ogSi7dHnV_XC"
      },
      "source": [
        ""
      ]
    },
    {
      "cell_type": "code",
      "metadata": {
        "colab": {
          "base_uri": "https://localhost:8080/",
          "height": 365
        },
        "id": "-wTbP3HqWAQt",
        "outputId": "bdfa858e-32ec-4547-fb1b-19d8282d3869"
      },
      "source": [
        "data=pd.read_csv('canciones2018.csv')\n",
        "data.head(5)"
      ],
      "execution_count": null,
      "outputs": [
        {
          "output_type": "execute_result",
          "data": {
            "text/html": [
              "<div>\n",
              "<style scoped>\n",
              "    .dataframe tbody tr th:only-of-type {\n",
              "        vertical-align: middle;\n",
              "    }\n",
              "\n",
              "    .dataframe tbody tr th {\n",
              "        vertical-align: top;\n",
              "    }\n",
              "\n",
              "    .dataframe thead th {\n",
              "        text-align: right;\n",
              "    }\n",
              "</style>\n",
              "<table border=\"1\" class=\"dataframe\">\n",
              "  <thead>\n",
              "    <tr style=\"text-align: right;\">\n",
              "      <th></th>\n",
              "      <th>id</th>\n",
              "      <th>name</th>\n",
              "      <th>artists</th>\n",
              "      <th>danceability</th>\n",
              "      <th>energy</th>\n",
              "      <th>key</th>\n",
              "      <th>loudness</th>\n",
              "      <th>mode</th>\n",
              "      <th>speechiness</th>\n",
              "      <th>acousticness</th>\n",
              "      <th>instrumentalness</th>\n",
              "      <th>liveness</th>\n",
              "      <th>valence</th>\n",
              "      <th>tempo</th>\n",
              "      <th>duration_ms</th>\n",
              "      <th>time_signature</th>\n",
              "    </tr>\n",
              "  </thead>\n",
              "  <tbody>\n",
              "    <tr>\n",
              "      <th>0</th>\n",
              "      <td>6DCZcSspjsKoFjzjrWoCd</td>\n",
              "      <td>God's Plan</td>\n",
              "      <td>Drake</td>\n",
              "      <td>0.754</td>\n",
              "      <td>0.449</td>\n",
              "      <td>7.0</td>\n",
              "      <td>-9.211</td>\n",
              "      <td>1.0</td>\n",
              "      <td>0.1090</td>\n",
              "      <td>0.0332</td>\n",
              "      <td>0.000083</td>\n",
              "      <td>0.552</td>\n",
              "      <td>0.357</td>\n",
              "      <td>77.169</td>\n",
              "      <td>198973.0</td>\n",
              "      <td>4.0</td>\n",
              "    </tr>\n",
              "    <tr>\n",
              "      <th>1</th>\n",
              "      <td>3ee8Jmje8o58CHK66QrVC</td>\n",
              "      <td>SAD!</td>\n",
              "      <td>XXXTENTACION</td>\n",
              "      <td>0.740</td>\n",
              "      <td>0.613</td>\n",
              "      <td>8.0</td>\n",
              "      <td>-4.880</td>\n",
              "      <td>1.0</td>\n",
              "      <td>0.1450</td>\n",
              "      <td>0.2580</td>\n",
              "      <td>0.003720</td>\n",
              "      <td>0.123</td>\n",
              "      <td>0.473</td>\n",
              "      <td>75.023</td>\n",
              "      <td>166606.0</td>\n",
              "      <td>4.0</td>\n",
              "    </tr>\n",
              "    <tr>\n",
              "      <th>2</th>\n",
              "      <td>0e7ipj03S05BNilyu5bRz</td>\n",
              "      <td>rockstar (feat. 21 Savage)</td>\n",
              "      <td>Post Malone</td>\n",
              "      <td>0.587</td>\n",
              "      <td>0.535</td>\n",
              "      <td>5.0</td>\n",
              "      <td>-6.090</td>\n",
              "      <td>0.0</td>\n",
              "      <td>0.0898</td>\n",
              "      <td>0.1170</td>\n",
              "      <td>0.000066</td>\n",
              "      <td>0.131</td>\n",
              "      <td>0.140</td>\n",
              "      <td>159.847</td>\n",
              "      <td>218147.0</td>\n",
              "      <td>4.0</td>\n",
              "    </tr>\n",
              "    <tr>\n",
              "      <th>3</th>\n",
              "      <td>3swc6WTsr7rl9DqQKQA55</td>\n",
              "      <td>Psycho (feat. Ty Dolla $ign)</td>\n",
              "      <td>Post Malone</td>\n",
              "      <td>0.739</td>\n",
              "      <td>0.559</td>\n",
              "      <td>8.0</td>\n",
              "      <td>-8.011</td>\n",
              "      <td>1.0</td>\n",
              "      <td>0.1170</td>\n",
              "      <td>0.5800</td>\n",
              "      <td>0.000000</td>\n",
              "      <td>0.112</td>\n",
              "      <td>0.439</td>\n",
              "      <td>140.124</td>\n",
              "      <td>221440.0</td>\n",
              "      <td>4.0</td>\n",
              "    </tr>\n",
              "    <tr>\n",
              "      <th>4</th>\n",
              "      <td>2G7V7zsVDxg1yRsu7Ew9R</td>\n",
              "      <td>In My Feelings</td>\n",
              "      <td>Drake</td>\n",
              "      <td>0.835</td>\n",
              "      <td>0.626</td>\n",
              "      <td>1.0</td>\n",
              "      <td>-5.833</td>\n",
              "      <td>1.0</td>\n",
              "      <td>0.1250</td>\n",
              "      <td>0.0589</td>\n",
              "      <td>0.000060</td>\n",
              "      <td>0.396</td>\n",
              "      <td>0.350</td>\n",
              "      <td>91.030</td>\n",
              "      <td>217925.0</td>\n",
              "      <td>4.0</td>\n",
              "    </tr>\n",
              "  </tbody>\n",
              "</table>\n",
              "</div>"
            ],
            "text/plain": [
              "                      id  ... time_signature\n",
              "0  6DCZcSspjsKoFjzjrWoCd  ...            4.0\n",
              "1  3ee8Jmje8o58CHK66QrVC  ...            4.0\n",
              "2  0e7ipj03S05BNilyu5bRz  ...            4.0\n",
              "3  3swc6WTsr7rl9DqQKQA55  ...            4.0\n",
              "4  2G7V7zsVDxg1yRsu7Ew9R  ...            4.0\n",
              "\n",
              "[5 rows x 16 columns]"
            ]
          },
          "metadata": {},
          "execution_count": 14
        }
      ]
    },
    {
      "cell_type": "code",
      "metadata": {
        "colab": {
          "base_uri": "https://localhost:8080/",
          "height": 35
        },
        "id": "QecbXzgPXG4_",
        "outputId": "a3436203-dcee-41a0-98c4-72dc3fec9afe"
      },
      "source": [
        "artista = data.artists\n",
        "artista[5]\n"
      ],
      "execution_count": null,
      "outputs": [
        {
          "output_type": "execute_result",
          "data": {
            "application/vnd.google.colaboratory.intrinsic+json": {
              "type": "string"
            },
            "text/plain": [
              "'Post Malone'"
            ]
          },
          "metadata": {},
          "execution_count": 16
        }
      ]
    },
    {
      "cell_type": "code",
      "metadata": {
        "colab": {
          "base_uri": "https://localhost:8080/"
        },
        "id": "tIDmBkCGaYUi",
        "outputId": "f1c69023-d8dc-45e8-8616-003fb01226ba"
      },
      "source": [
        "info =  data.iloc[15]\n",
        "info"
      ],
      "execution_count": null,
      "outputs": [
        {
          "output_type": "execute_result",
          "data": {
            "text/plain": [
              "id                     3GCdLUSnKSMJhs4Tj6CV3\n",
              "name                All The Stars (with SZA)\n",
              "artists                       Kendrick Lamar\n",
              "danceability                           0.698\n",
              "energy                                 0.633\n",
              "key                                        8\n",
              "loudness                              -4.946\n",
              "mode                                       1\n",
              "speechiness                           0.0597\n",
              "acousticness                          0.0605\n",
              "instrumentalness                    0.000194\n",
              "liveness                              0.0926\n",
              "valence                                0.552\n",
              "tempo                                 96.924\n",
              "duration_ms                           232187\n",
              "time_signature                             4\n",
              "Name: 15, dtype: object"
            ]
          },
          "metadata": {},
          "execution_count": 18
        }
      ]
    },
    {
      "cell_type": "code",
      "metadata": {
        "colab": {
          "base_uri": "https://localhost:8080/"
        },
        "id": "0sTWOGOEapaP",
        "outputId": "b6bb099b-98b5-4c1a-bfe6-40d8f248988b"
      },
      "source": [
        "data.tail"
      ],
      "execution_count": null,
      "outputs": [
        {
          "output_type": "execute_result",
          "data": {
            "text/plain": [
              "<bound method NDFrame.tail of                        id  ... time_signature\n",
              "0   6DCZcSspjsKoFjzjrWoCd  ...            4.0\n",
              "1   3ee8Jmje8o58CHK66QrVC  ...            4.0\n",
              "2   0e7ipj03S05BNilyu5bRz  ...            4.0\n",
              "3   3swc6WTsr7rl9DqQKQA55  ...            4.0\n",
              "4   2G7V7zsVDxg1yRsu7Ew9R  ...            4.0\n",
              "..                    ...  ...            ...\n",
              "95  630sXRhIcfwr2e4RdNtjK  ...            4.0\n",
              "96  2xmrfQpmS2iJExTlklLoA  ...            4.0\n",
              "97  5WvAo7DNuPRmk4APhdPzi  ...            5.0\n",
              "98  1j4kHkkpqZRBwE0A4CN4Y  ...            4.0\n",
              "99  3EPXxR3ImUwfayaurPi3c  ...            4.0\n",
              "\n",
              "[100 rows x 16 columns]>"
            ]
          },
          "metadata": {},
          "execution_count": 19
        }
      ]
    },
    {
      "cell_type": "code",
      "metadata": {
        "id": "2EzFcMlcas5W",
        "colab": {
          "base_uri": "https://localhost:8080/"
        },
        "outputId": "cd303b4b-13b7-402b-de3a-2a64ce93d78d"
      },
      "source": [
        "\n",
        "data.shape"
      ],
      "execution_count": 21,
      "outputs": [
        {
          "output_type": "execute_result",
          "data": {
            "text/plain": [
              "(100, 16)"
            ]
          },
          "metadata": {},
          "execution_count": 21
        }
      ]
    }
  ]
}